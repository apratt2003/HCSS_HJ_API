{
 "cells": [
  {
   "cell_type": "code",
   "execution_count": null,
   "metadata": {},
   "outputs": [],
   "source": [
    "import requests\n",
    "import json\n",
    "import pandas as pd\n",
    "from pandas.io.json import json_normalize\n",
    "from pandas.plotting import table\n",
    "from datetime import datetime, date, timedelta\n",
    "import time\n",
    "import seaborn as sns\n",
    "import matplotlib.pyplot as plt\n",
    "from IPython.display import HTML, Markdown\n",
    "import plotly.figure_factory as ff\n",
    "import os\n"
   ]
  },
  {
   "cell_type": "code",
   "execution_count": null,
   "metadata": {},
   "outputs": [],
   "source": [
    "# Calculate the week-ending date for last week\n",
    "today = date.today()\n",
    "idx = (today.weekday()+1)%7\n",
    "week_ending = today - timedelta(7+idx-7)\n",
    "#week_ending\n",
    "\n",
    "start_date = week_ending-timedelta(days=6)"
   ]
  },
  {
   "cell_type": "markdown",
   "metadata": {},
   "source": [
    "<h1><center>Labor & Equipment Weekly Report</center></h1>\n",
    "<br>\n",
    "<h3><center>Week Ending {{week_ending}}</center></h3>  "
   ]
  },
  {
   "cell_type": "code",
   "execution_count": null,
   "metadata": {},
   "outputs": [],
   "source": [
    "Markdown(\"Week Ending {}\".format(week_ending))"
   ]
  },
  {
   "cell_type": "code",
   "execution_count": null,
   "metadata": {},
   "outputs": [],
   "source": [
    "headers = {'Content-Type':'application/x-www-form-urlencoded',\n",
    "           'Cache-Control': 'no-cache',}\n",
    "domain = \"https://api.hcssapps.com/\"\n",
    "token_expiration = time.time()-3601\n",
    "auth_header = {}\n",
    "\n",
    "MyBusinessUnitId = os.environ.get('FCC_HCSS_BUSSINESS_UNIT_ID')"
   ]
  },
  {
   "cell_type": "code",
   "execution_count": null,
   "metadata": {
    "scrolled": true
   },
   "outputs": [],
   "source": [
    "#Get token\n",
    "\n",
    "def get_token():\n",
    "    global auth_header\n",
    "    client_id = os.environ.get('HCSS_API_ID') #insert your HCSS API client ID issued by HCSS\n",
    "    client_secret = os.environ.get('HCSS_API_SECRET') #insert your HCSS API client secret issued by HCSS\n",
    "    scope = 'heavyjob:read dis:read timecards:read'\n",
    "    grant_type = 'client_credentials'\n",
    "\n",
    "    token_url = domain + \"identity/connect/token\"\n",
    "    payload = {'client_id': client_id,\n",
    "              'client_secret': client_secret,\n",
    "              'scope' :scope,\n",
    "              'grant_type' : grant_type\n",
    "              }\n",
    "\n",
    "    try:\n",
    "        #conn.request(\"POST\", token_url, payload, headers)\n",
    "        response = requests.post(token_url, data=payload, headers=headers)\n",
    "        #print(response.text)\n",
    "\n",
    "        #response = conn.getresponse()\n",
    "        #data = response.read()\n",
    "        #print(data.decode(\"utf-8\"))\n",
    "        #conn.close\n",
    "    except Exception as e:\n",
    "        print(\"[Errno {0}] {1}\".format(e.errno, e.strerror))\n",
    "        \n",
    "\n",
    "    token = json.loads(response.text)\n",
    "\n",
    "    #validate token\n",
    "    auth_header = {'Authorization': token.get('token_type') + \" \" + token.get('access_token')}\n",
    "    token_expiration = time.time()+token.get('expires_in')\n",
    "    #print(auth_header)\n",
    "    \n",
    "    return auth_header, token_expiration\n",
    "\n",
    "#check for current token\n",
    "def check_token():\n",
    "    global auth_header\n",
    "    global token_expiration\n",
    "    #print(token_expiration)\n",
    "    if time.time()<token_expiration:\n",
    "        token_status = True\n",
    "        #print('token still good')\n",
    "    else:\n",
    "        try:\n",
    "            auth_header, token_expiration = get_token()\n",
    "            token_status = True\n",
    "            #print('token expired, had to re-authorize')\n",
    "        except:\n",
    "            token_status = False\n",
    "            #print('token expired')\n",
    "    return token_status\n",
    "        \n",
    "\n",
    "#get business units\n",
    "\n",
    "def get_business_units():\n",
    "    check_token()\n",
    "    bu_url = domain + 'heavyjob/api/v1/businessUnits'\n",
    "    #print(bu_url)\n",
    "\n",
    "    business_units = requests.get(bu_url, headers=auth_header)\n",
    "\n",
    "    #print(business_units.text)\n",
    "\n",
    "    df_business_units = pd.read_json(business_units.text)\n",
    "\n",
    "    del df_business_units['id']\n",
    "    del df_business_units['credentialsId']\n",
    "    return df_business_units\n",
    "\n",
    "#get job list\n",
    "\n",
    "def get_job_list(bus_unit):\n",
    "    check_token()\n",
    "    jobs_url = domain + 'heavyjob/api/v1/jobs?businessUnitId=' + bus_unit\n",
    "    #print(bu_url)\n",
    "\n",
    "    jobs = requests.get(jobs_url, headers=auth_header)\n",
    "\n",
    "    #print(business_units.text)\n",
    "\n",
    "    df = pd.read_json(jobs.text)\n",
    "\n",
    "    #del df_business_units['id']\n",
    "    #del df_business_units['credentialsId']\n",
    "    return df\n",
    "\n",
    "#get project number jobId\n",
    "def get_project_id(FCC_Proj_num):\n",
    "    if FCC_Proj_num == 'ALL':\n",
    "        return 'ALL'\n",
    "    else:\n",
    "        job = jobs.loc[jobs['code'] == FCC_Proj_num]\n",
    "        return job.iloc[0]['id']\n",
    "    \n",
    "\n",
    "\n",
    "#get cost code tag list\n",
    "def get_cost_code_tags(bus_unit):\n",
    "    check_token()\n",
    "    cost_code_tags = domain + 'heavyjob/api/v1/costCodeSetupFilters?businessUnitId=' + bus_unit\n",
    "    \n",
    "    cost_codes = requests.get(cost_code_tags, headers=auth_header)\n",
    "\n",
    "    df = pd.read_json(cost_codes.text)\n",
    "\n",
    "    return df\n",
    "\n",
    "#get code code tag relationship list\n",
    "def get_cost_code_tags_relations():\n",
    "    check_token()\n",
    "    try:\n",
    "        cost_code_tags_relations = domain + 'heavyjob/api/v1/costCodeTags?jobId=961a7f32-b798-4b42-ab63-83aa73db341d'\n",
    "\n",
    "        cost_codes_relations = requests.get(cost_code_tags_relations, headers=auth_header)\n",
    "\n",
    "        \n",
    "    except Exception as e:\n",
    "        print(\"[Errno {0}] {1}\".format(e.errno, e.strerror))\n",
    "        \n",
    "   \n",
    "    return cost_codes_relations\n",
    "\n",
    "#get list of cost adjustments\n",
    "def get_cost_adjustments(bus_unit):\n",
    "    check_token()\n",
    "    cost_adjustments = domain + 'heavyjob/api/v1/businessUnits/'+bus_unit+'/costAdjustments'\n",
    "    \n",
    "    data = requests.get(cost_adjustments, headers=auth_header)\n",
    "\n",
    "    #print(business_units.text)\n",
    "\n",
    "    df = pd.read_json(data.text)\n",
    "\n",
    "    #del df_business_units['id']\n",
    "    #del df_business_units['credentialsId']\n",
    "    return df\n",
    "\n",
    "#get job cost\n",
    "def get_job_cost(jobId):\n",
    "    check_token()\n",
    "    job_cost = domain + 'heavyjob/api/v1/jobs/'+jobId+'/costs'\n",
    "    \n",
    "    data = requests.get(job_cost, headers=auth_header).json()\n",
    "    #num_pages = data['last_page']\n",
    "\n",
    "    #print(type(data))\n",
    "\n",
    "    #df = json_normalize(data.get('results'))\n",
    "\n",
    "    #del df_business_units['id']\n",
    "    #del df_business_units['credentialsId']\n",
    "    return data\n",
    "\n",
    "#get cost codes\n",
    "def get_cost_codes(jobId):\n",
    "    check_token()\n",
    "    cost_codes = domain + 'heavyjob/api/v1/costCodes?jobId='+jobId\n",
    "    \n",
    "    data = requests.get(cost_codes, headers=auth_header).json()\n",
    "    #num_pages = data['last_page']\n",
    "\n",
    "    #print(type(data))\n",
    "\n",
    "    df = json_normalize(data.get('results'))\n",
    "\n",
    "    #del df_business_units['id']\n",
    "    #del df_business_units['credentialsId']\n",
    "    return df\n",
    "\n",
    "#get timecard summary info\n",
    "def get_timecard_summary(jobId, startDate=date(2021,1,1), endDate=date.today()):\n",
    "    check_token()\n",
    "    if jobId == 'ALL':\n",
    "        request = domain + 'heavyjob/api/v1/timeCardInfo?startDate='+str(startDate)+'&endDate='+str(endDate)\n",
    "    else:\n",
    "        request = domain + 'heavyjob/api/v1/timeCardInfo?jobId='+jobId+'&startDate='+str(startDate)+'&endDate='+str(endDate)\n",
    "    \n",
    "    data = requests.get(request, headers=auth_header).json()\n",
    "    \n",
    "    df = json_normalize(data.get('results'))\n",
    "\n",
    "    return df\n",
    "\n",
    "#get timecard info\n",
    "def get_timecard(timecard_id):\n",
    "    check_token()\n",
    "    request = domain + 'heavyjob/api/v1/timeCards/'+timecard_id\n",
    "    \n",
    "    data = requests.get(request, headers=auth_header).json()\n",
    "    \n",
    "    df = json_normalize(data)\n",
    "\n",
    "    return df\n",
    "\n",
    "#get employees\n",
    "def get_employees(bus_unit):\n",
    "    check_token()\n",
    "    request = domain + 'heavyjob/api/v1/businessUnits/'+bus_unit+'/employees'\n",
    "    \n",
    "    data = requests.get(request, headers=auth_header).json()\n",
    "    \n",
    "    df = json_normalize(data)\n",
    "\n",
    "    return df"
   ]
  },
  {
   "cell_type": "code",
   "execution_count": null,
   "metadata": {},
   "outputs": [],
   "source": [
    "business_units = get_business_units()\n",
    "#business_units"
   ]
  },
  {
   "cell_type": "code",
   "execution_count": null,
   "metadata": {},
   "outputs": [],
   "source": [
    "jobs = get_job_list(MyBusinessUnitId)\n",
    "#jobs"
   ]
  },
  {
   "cell_type": "code",
   "execution_count": null,
   "metadata": {},
   "outputs": [],
   "source": [
    "active_jobs = jobs[jobs.status == \"active\"]\n",
    "active_jobs.head()"
   ]
  },
  {
   "cell_type": "code",
   "execution_count": null,
   "metadata": {},
   "outputs": [],
   "source": [
    "\n",
    "fig = ff.create_table(active_jobs[[\"code\",\"description\", \"status\"]])\n",
    "fig.update_layout(autosize=True)#False, width=500, height=300)\n",
    "fig.write_image(\"H:/My Drive/Active Jobs in FCCRI.png\", scale = 2, engine=\"kaleido\")\n",
    "fig.show()"
   ]
  },
  {
   "cell_type": "code",
   "execution_count": null,
   "metadata": {},
   "outputs": [],
   "source": [
    "# cost_cost_tags = get_cost_code_tags(MyBusinessUnitId)\n",
    "# cost_cost_tags\n",
    "\n",
    "# tags = get_cost_code_tags_relations()\n",
    "# tags.text\n",
    "\n",
    "# cost_adjustments = get_cost_adjustments(MyBusinessUnitId)\n",
    "# cost_adjustments\n",
    "\n",
    "# cost_codes = get_cost_codes(get_project_id('7028'))\n",
    "# cost_codes#.get('results')\n",
    "\n",
    "job_cost = get_job_cost(get_project_id('7028'))\n",
    "job_cost.get('results')\n"
   ]
  },
  {
   "cell_type": "code",
   "execution_count": null,
   "metadata": {},
   "outputs": [],
   "source": [
    "cost_code_cost = pd.DataFrame(job_cost['costCodeCosts'])\n",
    "cost_code_cost"
   ]
  },
  {
   "cell_type": "code",
   "execution_count": null,
   "metadata": {},
   "outputs": [],
   "source": [
    "fccri_timecard_summary = timecard_summary[timecard_summary['businessUnitId'] == MyBusinessUnitId]\n",
    "fccri_timecard_summary = fccri_timecard_summary.reset_index(drop=True)\n",
    "#fccri_timecard_summary"
   ]
  },
  {
   "cell_type": "code",
   "execution_count": null,
   "metadata": {},
   "outputs": [],
   "source": [
    "df_timecards_data = pd.DataFrame()\n",
    "for timecard in range(len(fccri_timecard_summary)):\n",
    "    data = (get_timecard(fccri_timecard_summary.id[timecard]))\n",
    "    #data = data.drop(data.index[[0]])\n",
    "    df_timecards_data = df_timecards_data.append(data, ignore_index=True)\n",
    "#df_timecards_data"
   ]
  },
  {
   "cell_type": "code",
   "execution_count": null,
   "metadata": {},
   "outputs": [],
   "source": [
    "for cost_code in range(len(df_timecards_data.costCodes[0])):\n",
    "    print(df_timecards_data.costCodes[0][cost_code])"
   ]
  },
  {
   "cell_type": "code",
   "execution_count": null,
   "metadata": {},
   "outputs": [],
   "source": [
    "#df = pd.DataFrame()\n",
    "df = pd.DataFrame((df_timecards_data.iloc[[6]]['employees']))\n",
    "df2 = pd.DataFrame(df.employees.iloc[0])#['employeeDescription']\n",
    "df3 = pd.DataFrame(df2.iloc[[0]]['regularHours'])\n",
    "df3.iloc[[0]]['regularHours']"
   ]
  },
  {
   "cell_type": "code",
   "execution_count": null,
   "metadata": {},
   "outputs": [],
   "source": [
    "df_overtime = pd.DataFrame()\n",
    "for timecard in range(len(fccri_timecard_summary)):\n",
    "#    print(\"TIMECARD index: \",timecard, \" \", df_timecards_data.id[timecard])\n",
    "    for employee in range(len(df_timecards_data['employees'][timecard])):\n",
    "        employee_name = df_timecards_data['employees'][timecard][employee]['employeeDescription']\n",
    "#         print(employee_name,  #log to new df\n",
    "#               df_timecards_data['employees'][timecard][employee]['regularHours'],\n",
    "#               df_timecards_data['employees'][timecard][employee]['overtimeHours']\n",
    "#             )\n",
    "        for costcode in range(len(df_timecards_data['employees'][timecard][employee]['overtimeHours'])):\n",
    "            ot_hours = 0\n",
    "            #print(\"   Costcode index: \",costcode, \" of \", len(df_timecards_data['employees'][timecard][employee]['overtimeHours']))\n",
    "            ot_hours = df_timecards_data['employees'][timecard][employee]['overtimeHours'][costcode]['hours']\n",
    "            #print(\" OT Hours\", ot_hours) #log to new df\n",
    "#            print(df_timecards_data['employees'][timecard][employee]['overtimeHours'][costcode])\n",
    "            #print(df_timecards_data.employees[0][employee]['employeeDescription'],df_timecards_data.employees[employee][0]['overtimeHours'][0]['hours'])\n",
    "            data = {'Employee_Name':employee_name,'Overtime_Hours':ot_hours}\n",
    "#            print(data)\n",
    "            df_overtime = df_overtime.append(data, ignore_index=True)\n",
    "df_overtime = df_overtime.groupby(['Employee_Name']).sum()\n",
    "df_overtime = df_overtime.reset_index()\n",
    "#df_overtime"
   ]
  },
  {
   "cell_type": "code",
   "execution_count": null,
   "metadata": {},
   "outputs": [],
   "source": [
    "plot_df = df_overtime.sort_values(['Overtime_Hours']).reset_index(drop=True)\n",
    "sns.barplot(data=plot_df, x='Overtime_Hours', y='Employee_Name', ci=None).set_title(\"Time Reporting for \" + str(week_ending))\n",
    "plt.rcParams['figure.figsize']=(20,40)\n",
    "plt.axvline(x=9)\n",
    "plt.savefig(\"H:/My Drive/Overtime Reporting.png\")\n",
    "plt.show()"
   ]
  },
  {
   "cell_type": "code",
   "execution_count": null,
   "metadata": {},
   "outputs": [],
   "source": [
    "# f_timecards_data.iloc[24]['employees']#[0]['overtimeHours']\n",
    "#test = df_timecards_data[df_timecards_data['foremanCode'] == '081DE']\n",
    "#employees = test['employees'][0][0]['employeeDescription']\n",
    "test = df_timecards_data[df_timecards_data['foremanCode'] == '081DE']"
   ]
  },
  {
   "cell_type": "code",
   "execution_count": null,
   "metadata": {},
   "outputs": [],
   "source": [
    "test.employees.iloc[[0]].iloc[0]"
   ]
  },
  {
   "cell_type": "code",
   "execution_count": null,
   "metadata": {},
   "outputs": [],
   "source": [
    "df_employee_OThours = json_normalize(df_timecards_data.employees[7])#,['overtimeHours','employeeCode', 'employeeDescription'])\n",
    "df_employee_OThours"
   ]
  },
  {
   "cell_type": "code",
   "execution_count": null,
   "metadata": {},
   "outputs": [],
   "source": [
    "employees = get_employees(MyBusinessUnitId)"
   ]
  },
  {
   "cell_type": "code",
   "execution_count": null,
   "metadata": {},
   "outputs": [],
   "source": [
    "employees"
   ]
  },
  {
   "cell_type": "code",
   "execution_count": null,
   "metadata": {},
   "outputs": [],
   "source": [
    "os.system('jupyter nbconvert --no-input --to html \"C:/Users/apratt/HCSS API.ipynb\"')"
   ]
  },
  {
   "cell_type": "code",
   "execution_count": null,
   "metadata": {},
   "outputs": [],
   "source": [
    "get_cost_codes(get_project_id(\"7028\"))"
   ]
  },
  {
   "cell_type": "code",
   "execution_count": null,
   "metadata": {},
   "outputs": [],
   "source": []
  }
 ],
 "metadata": {
  "kernelspec": {
   "display_name": "Python 3",
   "language": "python",
   "name": "python3"
  },
  "language_info": {
   "codemirror_mode": {
    "name": "ipython",
    "version": 3
   },
   "file_extension": ".py",
   "mimetype": "text/x-python",
   "name": "python",
   "nbconvert_exporter": "python",
   "pygments_lexer": "ipython3",
   "version": "3.7.3"
  }
 },
 "nbformat": 4,
 "nbformat_minor": 2
}
